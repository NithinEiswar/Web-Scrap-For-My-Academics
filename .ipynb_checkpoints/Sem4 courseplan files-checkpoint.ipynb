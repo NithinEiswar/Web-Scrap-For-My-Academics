{
 "cells": [
  {
   "cell_type": "code",
   "execution_count": 1,
   "metadata": {},
   "outputs": [],
   "source": [
    "# You tell Python that you want to use a library with the import statement.\n",
    "import requests"
   ]
  },
  {
   "cell_type": "code",
   "execution_count": 2,
   "metadata": {},
   "outputs": [],
   "source": [
    "# Get the https://www.tnagrisnet.tn.gov.in/Contact.php page\n",
    "req = requests.get(\"http://silver.nitt.edu/courseplan/ECE/2020-JAN/B.Tech/II-Year/\")"
   ]
  },
  {
   "cell_type": "code",
   "execution_count": 3,
   "metadata": {},
   "outputs": [
    {
     "data": {
      "text/plain": [
       "['__attrs__',\n",
       " '__bool__',\n",
       " '__class__',\n",
       " '__delattr__',\n",
       " '__dict__',\n",
       " '__dir__',\n",
       " '__doc__',\n",
       " '__enter__',\n",
       " '__eq__',\n",
       " '__exit__',\n",
       " '__format__',\n",
       " '__ge__',\n",
       " '__getattribute__',\n",
       " '__getstate__',\n",
       " '__gt__',\n",
       " '__hash__',\n",
       " '__init__',\n",
       " '__init_subclass__',\n",
       " '__iter__',\n",
       " '__le__',\n",
       " '__lt__',\n",
       " '__module__',\n",
       " '__ne__',\n",
       " '__new__',\n",
       " '__nonzero__',\n",
       " '__reduce__',\n",
       " '__reduce_ex__',\n",
       " '__repr__',\n",
       " '__setattr__',\n",
       " '__setstate__',\n",
       " '__sizeof__',\n",
       " '__str__',\n",
       " '__subclasshook__',\n",
       " '__weakref__',\n",
       " '_content',\n",
       " '_content_consumed',\n",
       " '_next',\n",
       " 'apparent_encoding',\n",
       " 'close',\n",
       " 'connection',\n",
       " 'content',\n",
       " 'cookies',\n",
       " 'elapsed',\n",
       " 'encoding',\n",
       " 'headers',\n",
       " 'history',\n",
       " 'is_permanent_redirect',\n",
       " 'is_redirect',\n",
       " 'iter_content',\n",
       " 'iter_lines',\n",
       " 'json',\n",
       " 'links',\n",
       " 'next',\n",
       " 'ok',\n",
       " 'raise_for_status',\n",
       " 'raw',\n",
       " 'reason',\n",
       " 'request',\n",
       " 'status_code',\n",
       " 'text',\n",
       " 'url']"
      ]
     },
     "execution_count": 3,
     "metadata": {},
     "output_type": "execute_result"
    }
   ],
   "source": [
    "dir(req)"
   ]
  },
  {
   "cell_type": "code",
   "execution_count": 4,
   "metadata": {},
   "outputs": [
    {
     "data": {
      "text/plain": [
       "'http://silver.nitt.edu/courseplan/ECE/2020-JAN/B.Tech/II-Year/'"
      ]
     },
     "execution_count": 4,
     "metadata": {},
     "output_type": "execute_result"
    }
   ],
   "source": [
    "url_main=req.url\n",
    "url_main"
   ]
  },
  {
   "cell_type": "code",
   "execution_count": 5,
   "metadata": {},
   "outputs": [
    {
     "data": {
      "text/plain": [
       "'<!DOCTYPE HTML PUBLIC \"-//W3C//DTD HTML 3.2 Final//EN\">\\n<html>\\n <head>\\n  <title>Index of /courseplan/ECE/2020-JAN/B.Tech/II-Year</title>\\n </head>\\n <body>\\n<h1>Index of /courseplan/ECE/2020-JAN/B.Tech/II-Year</h1>\\n<table><tr><th><img src=\"/icons/blank.gif\" alt=\"[ICO]\"></th><th><a href=\"?C=N;O=D\">Name</a></th><th><a href=\"?C=M;O=A\">Last modified</a></th><th><a href=\"?C=S;O=A\">Size</a></th><th><a href=\"?C=D;O=A\">Description</a></th></tr><tr><th colspan=\"5\"><hr></th></tr>\\n<tr><td valign=\"top\"><img src=\"/icons/back.gif\" alt=\"[DIR]\"></td><td><a href=\"/courseplan/ECE/2020-JAN/B.Tech/\">Parent Directory</a></td><td>&nbsp;</td><td align=\"right\">  - </td><td>&nbsp;</td></tr>\\n<tr><td valign=\"top\"><img src=\"/icons/layout.gif\" alt=\"[   ]\"></td><td><a href=\"ECLR12-ELECTRONIC_CIRCUITS_LABORATORY.pdf\">ECLR12-ELECTRONIC_CIRCUITS_LABORATORY.pdf</a></td><td align=\"right\">27-Jan-2020 16:20  </td><td align=\"right\">1.7M</td><td>&nbsp;</td></tr>\\n<tr><td valign=\"top\"><img src=\"/icons/layout.gif\" alt=\"[   ]\"></td><td><a href=\"ECLR12-ELECTRONIC_CIRCUITS_LAB_B.pdf\">ECLR12-ELECTRONIC_CIRCUITS_LAB_B.pdf</a></td><td align=\"right\">31-Jan-2020 16:34  </td><td align=\"right\">1.7M</td><td>&nbsp;</td></tr>\\n<tr><td valign=\"top\"><img src=\"/icons/layout.gif\" alt=\"[   ]\"></td><td><a href=\"ECLR13_MICROPROCESSOR_AND_MICROCONTROLLER_LAB_A.pdf\">ECLR13_MICROPROCESSOR_AND_MICROCONTROLLER_LAB_A.pdf</a></td><td align=\"right\">04-Feb-2020 11:09  </td><td align=\"right\">1.3M</td><td>&nbsp;</td></tr>\\n<tr><td valign=\"top\"><img src=\"/icons/layout.gif\" alt=\"[   ]\"></td><td><a href=\"ECLR13_MICROPROCESSOR_AND_MICROCONTROLLER_LAB_B.pdf\">ECLR13_MICROPROCESSOR_AND_MICROCONTROLLER_LAB_B.pdf</a></td><td align=\"right\">04-Feb-2020 11:09  </td><td align=\"right\">1.6M</td><td>&nbsp;</td></tr>\\n<tr><td valign=\"top\"><img src=\"/icons/layout.gif\" alt=\"[   ]\"></td><td><a href=\"ECPC15-DIGITAL_SIGNAL_PROCESSING.pdf\">ECPC15-DIGITAL_SIGNAL_PROCESSING.pdf</a></td><td align=\"right\">06-Feb-2020 10:38  </td><td align=\"right\">2.0M</td><td>&nbsp;</td></tr>\\n<tr><td valign=\"top\"><img src=\"/icons/layout.gif\" alt=\"[   ]\"></td><td><a href=\"ECPC15-DIGITAL_SIGNAL_PROCESSING_A.pdf\">ECPC15-DIGITAL_SIGNAL_PROCESSING_A.pdf</a></td><td align=\"right\">13-Feb-2020 18:35  </td><td align=\"right\">1.6M</td><td>&nbsp;</td></tr>\\n<tr><td valign=\"top\"><img src=\"/icons/layout.gif\" alt=\"[   ]\"></td><td><a href=\"ECPC16-TRANSMISSION_LINES_AND_WAVEGUIDES_A.pdf\">ECPC16-TRANSMISSION_LINES_AND_WAVEGUIDES_A.pdf</a></td><td align=\"right\">14-Feb-2020 12:37  </td><td align=\"right\">1.7M</td><td>&nbsp;</td></tr>\\n<tr><td valign=\"top\"><img src=\"/icons/layout.gif\" alt=\"[   ]\"></td><td><a href=\"ECPC16-TRANSMISSION_LINES_AND_WAVEGUIDES_B.pdf\">ECPC16-TRANSMISSION_LINES_AND_WAVEGUIDES_B.pdf</a></td><td align=\"right\">31-Jan-2020 16:34  </td><td align=\"right\">1.8M</td><td>&nbsp;</td></tr>\\n<tr><td valign=\"top\"><img src=\"/icons/layout.gif\" alt=\"[   ]\"></td><td><a href=\"ECPC17-ELECTRONIC_CIRUITS.pdf\">ECPC17-ELECTRONIC_CIRUITS.pdf</a></td><td align=\"right\">27-Jan-2020 16:49  </td><td align=\"right\">1.7M</td><td>&nbsp;</td></tr>\\n<tr><td valign=\"top\"><img src=\"/icons/layout.gif\" alt=\"[   ]\"></td><td><a href=\"ECPC18-MICROPROCESSORS_AND_MICRO_CONTROLLERS_A&amp;B.pdf\">ECPC18-MICROPROCESSORS_AND_MICRO_CONTROLLERS_A&amp;B.pdf</a></td><td align=\"right\">28-Jan-2020 17:17  </td><td align=\"right\">1.9M</td><td>&nbsp;</td></tr>\\n<tr><td valign=\"top\"><img src=\"/icons/layout.gif\" alt=\"[   ]\"></td><td><a href=\"ECPE23-COMPUTER_ARCHITECTURE_AND_ORGANIZATION.pdf\">ECPE23-COMPUTER_ARCHITECTURE_AND_ORGANIZATION.pdf</a></td><td align=\"right\">13-Mar-2020 17:25  </td><td align=\"right\">1.7M</td><td>&nbsp;</td></tr>\\n<tr><td valign=\"top\"><img src=\"/icons/layout.gif\" alt=\"[   ]\"></td><td><a href=\"MAIR45-PROBABILITY_THEORY_AND_RANDOM_PROCESS_B.pdf\">MAIR45-PROBABILITY_THEORY_AND_RANDOM_PROCESS_B.pdf</a></td><td align=\"right\">30-Jan-2020 18:09  </td><td align=\"right\">251K</td><td>&nbsp;</td></tr>\\n<tr><td valign=\"top\"><img src=\"/icons/layout.gif\" alt=\"[   ]\"></td><td><a href=\"MAIR45_Probability_theory_and_Random_Processes_A.pdf\">MAIR45_Probability_theory_and_Random_Processes_A.pdf</a></td><td align=\"right\">23-Jan-2020 14:36  </td><td align=\"right\">799K</td><td>&nbsp;</td></tr>\\n<tr><th colspan=\"5\"><hr></th></tr>\\n</table>\\n</body></html>\\n'"
      ]
     },
     "execution_count": 5,
     "metadata": {},
     "output_type": "execute_result"
    }
   ],
   "source": [
    "page = req.text\n",
    "page"
   ]
  },
  {
   "cell_type": "code",
   "execution_count": 6,
   "metadata": {},
   "outputs": [],
   "source": [
    "from bs4 import BeautifulSoup"
   ]
  },
  {
   "cell_type": "code",
   "execution_count": 7,
   "metadata": {},
   "outputs": [],
   "source": [
    "# Your Code Here\n",
    "soup = BeautifulSoup(page, 'html.parser')"
   ]
  },
  {
   "cell_type": "code",
   "execution_count": 8,
   "metadata": {},
   "outputs": [
    {
     "data": {
      "text/plain": [
       "[<a href=\"?C=N;O=D\">Name</a>,\n",
       " <a href=\"?C=M;O=A\">Last modified</a>,\n",
       " <a href=\"?C=S;O=A\">Size</a>,\n",
       " <a href=\"?C=D;O=A\">Description</a>,\n",
       " <a href=\"/courseplan/ECE/2020-JAN/B.Tech/\">Parent Directory</a>,\n",
       " <a href=\"ECLR12-ELECTRONIC_CIRCUITS_LABORATORY.pdf\">ECLR12-ELECTRONIC_CIRCUITS_LABORATORY.pdf</a>,\n",
       " <a href=\"ECLR12-ELECTRONIC_CIRCUITS_LAB_B.pdf\">ECLR12-ELECTRONIC_CIRCUITS_LAB_B.pdf</a>,\n",
       " <a href=\"ECLR13_MICROPROCESSOR_AND_MICROCONTROLLER_LAB_A.pdf\">ECLR13_MICROPROCESSOR_AND_MICROCONTROLLER_LAB_A.pdf</a>,\n",
       " <a href=\"ECLR13_MICROPROCESSOR_AND_MICROCONTROLLER_LAB_B.pdf\">ECLR13_MICROPROCESSOR_AND_MICROCONTROLLER_LAB_B.pdf</a>,\n",
       " <a href=\"ECPC15-DIGITAL_SIGNAL_PROCESSING.pdf\">ECPC15-DIGITAL_SIGNAL_PROCESSING.pdf</a>,\n",
       " <a href=\"ECPC15-DIGITAL_SIGNAL_PROCESSING_A.pdf\">ECPC15-DIGITAL_SIGNAL_PROCESSING_A.pdf</a>,\n",
       " <a href=\"ECPC16-TRANSMISSION_LINES_AND_WAVEGUIDES_A.pdf\">ECPC16-TRANSMISSION_LINES_AND_WAVEGUIDES_A.pdf</a>,\n",
       " <a href=\"ECPC16-TRANSMISSION_LINES_AND_WAVEGUIDES_B.pdf\">ECPC16-TRANSMISSION_LINES_AND_WAVEGUIDES_B.pdf</a>,\n",
       " <a href=\"ECPC17-ELECTRONIC_CIRUITS.pdf\">ECPC17-ELECTRONIC_CIRUITS.pdf</a>,\n",
       " <a href=\"ECPC18-MICROPROCESSORS_AND_MICRO_CONTROLLERS_A&amp;B.pdf\">ECPC18-MICROPROCESSORS_AND_MICRO_CONTROLLERS_A&amp;B.pdf</a>,\n",
       " <a href=\"ECPE23-COMPUTER_ARCHITECTURE_AND_ORGANIZATION.pdf\">ECPE23-COMPUTER_ARCHITECTURE_AND_ORGANIZATION.pdf</a>,\n",
       " <a href=\"MAIR45-PROBABILITY_THEORY_AND_RANDOM_PROCESS_B.pdf\">MAIR45-PROBABILITY_THEORY_AND_RANDOM_PROCESS_B.pdf</a>,\n",
       " <a href=\"MAIR45_Probability_theory_and_Random_Processes_A.pdf\">MAIR45_Probability_theory_and_Random_Processes_A.pdf</a>]"
      ]
     },
     "execution_count": 8,
     "metadata": {},
     "output_type": "execute_result"
    }
   ],
   "source": [
    "\n",
    "links1=soup.find_all('a')\n",
    "links1"
   ]
  },
  {
   "cell_type": "code",
   "execution_count": 9,
   "metadata": {},
   "outputs": [
    {
     "name": "stdout",
     "output_type": "stream",
     "text": [
      "['?C=N;O=D', '?C=M;O=A', '?C=S;O=A', '?C=D;O=A', '/courseplan/ECE/2020-JAN/B.Tech/', 'ECLR12-ELECTRONIC_CIRCUITS_LABORATORY.pdf', 'ECLR12-ELECTRONIC_CIRCUITS_LAB_B.pdf', 'ECLR13_MICROPROCESSOR_AND_MICROCONTROLLER_LAB_A.pdf', 'ECLR13_MICROPROCESSOR_AND_MICROCONTROLLER_LAB_B.pdf', 'ECPC15-DIGITAL_SIGNAL_PROCESSING.pdf', 'ECPC15-DIGITAL_SIGNAL_PROCESSING_A.pdf', 'ECPC16-TRANSMISSION_LINES_AND_WAVEGUIDES_A.pdf', 'ECPC16-TRANSMISSION_LINES_AND_WAVEGUIDES_B.pdf', 'ECPC17-ELECTRONIC_CIRUITS.pdf', 'ECPC18-MICROPROCESSORS_AND_MICRO_CONTROLLERS_A&B.pdf', 'ECPE23-COMPUTER_ARCHITECTURE_AND_ORGANIZATION.pdf', 'MAIR45-PROBABILITY_THEORY_AND_RANDOM_PROCESS_B.pdf', 'MAIR45_Probability_theory_and_Random_Processes_A.pdf']\n"
     ]
    }
   ],
   "source": [
    "link=[]\n",
    "for link2 in links1:\n",
    "    if 'href' in link2.attrs:\n",
    "        link.append(str(link2.attrs['href']))\n",
    "       \n",
    "        \n",
    "print(link)   "
   ]
  },
  {
   "cell_type": "code",
   "execution_count": 10,
   "metadata": {},
   "outputs": [],
   "source": [
    "check='.pdf'"
   ]
  },
  {
   "cell_type": "code",
   "execution_count": 11,
   "metadata": {},
   "outputs": [],
   "source": [
    "res = [i for i in link if check in i] "
   ]
  },
  {
   "cell_type": "code",
   "execution_count": 12,
   "metadata": {},
   "outputs": [
    {
     "name": "stdout",
     "output_type": "stream",
     "text": [
      "['ECLR12-ELECTRONIC_CIRCUITS_LABORATORY.pdf', 'ECLR12-ELECTRONIC_CIRCUITS_LAB_B.pdf', 'ECLR13_MICROPROCESSOR_AND_MICROCONTROLLER_LAB_A.pdf', 'ECLR13_MICROPROCESSOR_AND_MICROCONTROLLER_LAB_B.pdf', 'ECPC15-DIGITAL_SIGNAL_PROCESSING.pdf', 'ECPC15-DIGITAL_SIGNAL_PROCESSING_A.pdf', 'ECPC16-TRANSMISSION_LINES_AND_WAVEGUIDES_A.pdf', 'ECPC16-TRANSMISSION_LINES_AND_WAVEGUIDES_B.pdf', 'ECPC17-ELECTRONIC_CIRUITS.pdf', 'ECPC18-MICROPROCESSORS_AND_MICRO_CONTROLLERS_A&B.pdf', 'ECPE23-COMPUTER_ARCHITECTURE_AND_ORGANIZATION.pdf', 'MAIR45-PROBABILITY_THEORY_AND_RANDOM_PROCESS_B.pdf', 'MAIR45_Probability_theory_and_Random_Processes_A.pdf']\n"
     ]
    }
   ],
   "source": [
    "print(res)"
   ]
  },
  {
   "cell_type": "code",
   "execution_count": 13,
   "metadata": {},
   "outputs": [],
   "source": [
    "res_fin=[url_main+s for s in res]"
   ]
  },
  {
   "cell_type": "code",
   "execution_count": 14,
   "metadata": {},
   "outputs": [
    {
     "data": {
      "text/plain": [
       "['http://silver.nitt.edu/courseplan/ECE/2020-JAN/B.Tech/II-Year/ECLR12-ELECTRONIC_CIRCUITS_LABORATORY.pdf',\n",
       " 'http://silver.nitt.edu/courseplan/ECE/2020-JAN/B.Tech/II-Year/ECLR12-ELECTRONIC_CIRCUITS_LAB_B.pdf',\n",
       " 'http://silver.nitt.edu/courseplan/ECE/2020-JAN/B.Tech/II-Year/ECLR13_MICROPROCESSOR_AND_MICROCONTROLLER_LAB_A.pdf',\n",
       " 'http://silver.nitt.edu/courseplan/ECE/2020-JAN/B.Tech/II-Year/ECLR13_MICROPROCESSOR_AND_MICROCONTROLLER_LAB_B.pdf',\n",
       " 'http://silver.nitt.edu/courseplan/ECE/2020-JAN/B.Tech/II-Year/ECPC15-DIGITAL_SIGNAL_PROCESSING.pdf',\n",
       " 'http://silver.nitt.edu/courseplan/ECE/2020-JAN/B.Tech/II-Year/ECPC15-DIGITAL_SIGNAL_PROCESSING_A.pdf',\n",
       " 'http://silver.nitt.edu/courseplan/ECE/2020-JAN/B.Tech/II-Year/ECPC16-TRANSMISSION_LINES_AND_WAVEGUIDES_A.pdf',\n",
       " 'http://silver.nitt.edu/courseplan/ECE/2020-JAN/B.Tech/II-Year/ECPC16-TRANSMISSION_LINES_AND_WAVEGUIDES_B.pdf',\n",
       " 'http://silver.nitt.edu/courseplan/ECE/2020-JAN/B.Tech/II-Year/ECPC17-ELECTRONIC_CIRUITS.pdf',\n",
       " 'http://silver.nitt.edu/courseplan/ECE/2020-JAN/B.Tech/II-Year/ECPC18-MICROPROCESSORS_AND_MICRO_CONTROLLERS_A&B.pdf',\n",
       " 'http://silver.nitt.edu/courseplan/ECE/2020-JAN/B.Tech/II-Year/ECPE23-COMPUTER_ARCHITECTURE_AND_ORGANIZATION.pdf',\n",
       " 'http://silver.nitt.edu/courseplan/ECE/2020-JAN/B.Tech/II-Year/MAIR45-PROBABILITY_THEORY_AND_RANDOM_PROCESS_B.pdf',\n",
       " 'http://silver.nitt.edu/courseplan/ECE/2020-JAN/B.Tech/II-Year/MAIR45_Probability_theory_and_Random_Processes_A.pdf']"
      ]
     },
     "execution_count": 14,
     "metadata": {},
     "output_type": "execute_result"
    }
   ],
   "source": [
    "res_fin"
   ]
  },
  {
   "cell_type": "code",
   "execution_count": 15,
   "metadata": {},
   "outputs": [
    {
     "name": "stdout",
     "output_type": "stream",
     "text": [
      "Requirement already satisfied: wget in c:\\users\\admin\\anaconda3\\lib\\site-packages (3.2)\n",
      "Note: you may need to restart the kernel to use updated packages.\n"
     ]
    }
   ],
   "source": [
    "pip install wget"
   ]
  },
  {
   "cell_type": "code",
   "execution_count": 16,
   "metadata": {},
   "outputs": [],
   "source": [
    "import wget"
   ]
  },
  {
   "cell_type": "code",
   "execution_count": 20,
   "metadata": {},
   "outputs": [
    {
     "name": "stdout",
     "output_type": "stream",
     "text": [
      "100% [............................................................................] 817808 / 817808"
     ]
    }
   ],
   "source": [
    "#Specify where you want to save these files\n",
    "for fin in res_fin:\n",
    "\n",
    "    wget.download(fin,r'C:\\Users\\Admin\\Desktop\\nithin\\College Academic Stuff\\Sem_4_courseplan')"
   ]
  },
  {
   "cell_type": "code",
   "execution_count": null,
   "metadata": {},
   "outputs": [],
   "source": []
  }
 ],
 "metadata": {
  "kernelspec": {
   "display_name": "Python 3",
   "language": "python",
   "name": "python3"
  },
  "language_info": {
   "codemirror_mode": {
    "name": "ipython",
    "version": 3
   },
   "file_extension": ".py",
   "mimetype": "text/x-python",
   "name": "python",
   "nbconvert_exporter": "python",
   "pygments_lexer": "ipython3",
   "version": "3.7.6"
  }
 },
 "nbformat": 4,
 "nbformat_minor": 4
}
